{
 "cells": [
  {
   "cell_type": "markdown",
   "metadata": {},
   "source": [
    "# Explore GISAID data\n"
   ]
  },
  {
   "cell_type": "code",
   "execution_count": null,
   "metadata": {},
   "outputs": [],
   "source": [
    "import os\n",
    "import math\n",
    "import pickle\n",
    "import numpy as np\n",
    "import torch\n",
    "from collections import Counter\n",
    "from pyrocov import mutrans, pangolin\n",
    "import matplotlib\n",
    "import matplotlib.pyplot as plt\n",
    "\n",
    "matplotlib.rcParams[\"figure.dpi\"] = 200\n",
    "matplotlib.rcParams[\"axes.edgecolor\"] = \"gray\""
   ]
  },
  {
   "cell_type": "markdown",
   "metadata": {},
   "source": [
    "## Explore columns"
   ]
  },
  {
   "cell_type": "code",
   "execution_count": null,
   "metadata": {},
   "outputs": [],
   "source": [
    "with open(\"results/gisaid.columns.pkl\", \"rb\") as f:\n",
    "    columns = pickle.load(f)\n",
    "print(\"loaded {} rows\".format(len(columns[\"day\"])))\n",
    "print(list(columns.keys()))"
   ]
  },
  {
   "cell_type": "code",
   "execution_count": null,
   "metadata": {},
   "outputs": [],
   "source": [
    "strain_counts = Counter(columns[\"lineage\"])\n",
    "for strain, count in strain_counts.most_common(20):\n",
    "    short = pangolin.compress(strain)\n",
    "    long = pangolin.decompress(strain)\n",
    "    assert strain == long, (strain, long)\n",
    "    if short == long:\n",
    "        print(f\"{count: >10d} {short}\")\n",
    "    else:\n",
    "        print(f\"{count: >10d} {short} (aka {long})\")"
   ]
  },
  {
   "cell_type": "code",
   "execution_count": null,
   "metadata": {},
   "outputs": [],
   "source": [
    "plt.figure(figsize=(6,3))\n",
    "plt.plot([c for _, c in strain_counts.most_common()])\n",
    "plt.yscale(\"log\")\n",
    "plt.title(\"Distribution of samples among lineages\")"
   ]
  },
  {
   "cell_type": "code",
   "execution_count": null,
   "metadata": {},
   "outputs": [],
   "source": [
    "counts = Counter()\n",
    "for location in columns[\"location\"]:\n",
    "    parts = location.split(\"/\")\n",
    "    if len(parts) < 2:\n",
    "        continue\n",
    "    parts = tuple(p.strip() for p in parts[:3])\n",
    "    counts[parts] += 1"
   ]
  },
  {
   "cell_type": "code",
   "execution_count": null,
   "metadata": {},
   "outputs": [],
   "source": [
    "plt.figure(figsize=(6,3))\n",
    "plt.plot([c for _, c in counts.most_common()])\n",
    "plt.yscale(\"log\")\n",
    "plt.title(\"Distribution of samples among regions\")"
   ]
  },
  {
   "cell_type": "code",
   "execution_count": null,
   "metadata": {},
   "outputs": [],
   "source": [
    "fine_countries = set()\n",
    "for parts, count in counts.items():\n",
    "    if count >= 5000:\n",
    "        fine_countries.add(parts[1])\n",
    "fine_countries = list(sorted(fine_countries))\n",
    "print(\"\\n\".join(fine_countries))"
   ]
  },
  {
   "cell_type": "code",
   "execution_count": null,
   "metadata": {},
   "outputs": [],
   "source": [
    "locations = Counter(columns[\"location\"])\n",
    "print(\"\\n\".join(f\"{c}\\t{p}\" for p, c in locations.most_common() if \"United Kingdom\" in p))"
   ]
  },
  {
   "cell_type": "code",
   "execution_count": null,
   "metadata": {},
   "outputs": [],
   "source": [
    "print(\"Europe:\", sum(1 for l in columns[\"location\"] if \"Europe\" in l))\n",
    "print(\"World - Europe:\", sum(1 for l in columns[\"location\"] if \"Europe\" not in l))"
   ]
  },
  {
   "cell_type": "markdown",
   "metadata": {},
   "source": [
    "## When were lineages born?"
   ]
  },
  {
   "cell_type": "code",
   "execution_count": null,
   "metadata": {},
   "outputs": [],
   "source": [
    "days = []\n",
    "for lineage, day in zip(columns[\"lineage\"], columns[\"day\"]):\n",
    "    if lineage == \"B.1.1.7\":\n",
    "        days.append(day)"
   ]
  },
  {
   "cell_type": "code",
   "execution_count": null,
   "metadata": {},
   "outputs": [],
   "source": [
    "plt.hist(np.array(days), bins=50)\n",
    "plt.yscale(\"log\")\n",
    "plt.title(\"Distribution of dates of B.1.1.7\");"
   ]
  },
  {
   "cell_type": "code",
   "execution_count": null,
   "metadata": {},
   "outputs": [],
   "source": [
    "pdf = torch.zeros(max(days) + 1).scatter_add(0, torch.tensor(days), torch.ones(len(days)))\n",
    "pdf /= pdf.sum()\n",
    "cdf = pdf.cumsum(0)"
   ]
  },
  {
   "cell_type": "code",
   "execution_count": null,
   "metadata": {},
   "outputs": [],
   "source": [
    "plt.plot(cdf)\n",
    "plt.yscale(\"log\")\n",
    "plt.title(\"CDF of B.1.1.7 observations\")"
   ]
  },
  {
   "cell_type": "markdown",
   "metadata": {},
   "source": [
    "## Explore count data"
   ]
  },
  {
   "cell_type": "code",
   "execution_count": null,
   "metadata": {},
   "outputs": [],
   "source": [
    "def load_data():\n",
    "    filename = \"results/mutrans.data.single.pt\"\n",
    "    if os.path.exists(filename):\n",
    "        dataset = torch.load(filename)\n",
    "    else:\n",
    "        dataset = mutrans.load_gisaid_data()\n",
    "        torch.save(dataset, filename)\n",
    "    dataset.update(mutrans.load_jhu_data(dataset))\n",
    "    return dataset\n",
    "\n",
    "dataset = load_data()\n",
    "locals().update(dataset)\n",
    "for k, v in sorted(dataset.items()):\n",
    "    if isinstance(v, torch.Tensor):\n",
    "        print(f\"{k} \\t{type(v).__name__} of shape {tuple(v.shape)}\")\n",
    "    else:\n",
    "        print(f\"{k} \\t{type(v).__name__} of size {len(v)}\")"
   ]
  },
  {
   "cell_type": "code",
   "execution_count": null,
   "metadata": {},
   "outputs": [],
   "source": [
    "daily_cases.shape"
   ]
  },
  {
   "cell_type": "code",
   "execution_count": null,
   "metadata": {},
   "outputs": [],
   "source": [
    "probs = weekly_strains + 1 / weekly_strains.size(-1)\n",
    "probs /= probs.sum(-1, True)\n",
    "logits = probs.log()\n",
    "logits -= logits.median(-1, True).values\n",
    "plt.hist(logits.reshape(-1).numpy(), bins=100)\n",
    "plt.yscale(\"symlog\");"
   ]
  },
  {
   "cell_type": "code",
   "execution_count": null,
   "metadata": {
    "scrolled": true
   },
   "outputs": [],
   "source": [
    "logits -= logits.mean(-1, True)\n",
    "plt.hist(logits.reshape(-1).numpy(), bins=100)\n",
    "plt.yscale(\"symlog\");"
   ]
  },
  {
   "cell_type": "markdown",
   "metadata": {},
   "source": [
    "## How heterogeneous are lineages?"
   ]
  },
  {
   "cell_type": "code",
   "execution_count": null,
   "metadata": {
    "scrolled": false
   },
   "outputs": [],
   "source": [
    "def plot_agreement(pairs):\n",
    "    M = int(len(pairs) ** 0.5 + 0.5)\n",
    "    N = int(math.ceil(len(pairs) / M))\n",
    "    assert len(pairs) <= M * N\n",
    "    fig, axes = plt.subplots(M, N, figsize=(2 * N, 2 * M + 0.5))\n",
    "    fig.suptitle(\"Mutation correlation between parent-child lineage pairs\", y=0.91)\n",
    "    pairs = iter(pairs)\n",
    "    for axe in axes:\n",
    "        for ax in axe:\n",
    "            ax.set_xticks(())\n",
    "            ax.set_yticks(())\n",
    "            ax.set_xlim(-0.05, 1.05)\n",
    "            ax.set_ylim(-0.05, 1.05)\n",
    "            try:\n",
    "                x, y = next(pairs)\n",
    "            except StopIteration:\n",
    "                continue\n",
    "            ax.set_xlabel(x)\n",
    "            ax.set_ylabel(y)\n",
    "            X = dataset[\"features\"][dataset[\"lineage_id\"][x]]\n",
    "            Y = dataset[\"features\"][dataset[\"lineage_id\"][y]]\n",
    "            ax.scatter(X.numpy(), Y.numpy(), alpha=0.3, lw=0)\n",
    "            X = (X - X.mean()) / X.std()\n",
    "            Y = (Y - Y.mean()) / Y.std()\n",
    "            ax.text(0.5, 0.5, \"{:0.3g}\".format((X * Y).mean()),\n",
    "                    va=\"center\", ha=\"center\")\n",
    "plot_agreement([\n",
    "    # Alpha\n",
    "    (\"A\", \"B\"),\n",
    "    (\"B\", \"B.1\"),\n",
    "    (\"B.1\", \"B.1.1\"),\n",
    "    (\"B.1.1\", \"B.1.1.7\"),\n",
    "    # Beta\n",
    "    (\"B.1\", \"B.1.351\"),\n",
    "    (\"B.1\", \"B.1.351.2\"),\n",
    "    (\"B.1\", \"B.1.351.3\"),\n",
    "    # Gamma\n",
    "    (\"B.1.1\", \"P.1\"),\n",
    "    (\"P.1\", \"P.1.1\"),\n",
    "    (\"P.1\", \"P.1.2\"),\n",
    "    # Delta\n",
    "    # (\"B.1.617\", \"B.1.617.1\"),\n",
    "    # (\"B.1.617\", \"B.1.617.2\"),\n",
    "    # (\"B.1.617\", \"B.1.617.3\"),\n",
    "    (\"B.1\", \"B.1.617.1\"),\n",
    "    (\"B.1\", \"B.1.617.2\"),\n",
    "    (\"B.1\", \"B.1.617.3\"),\n",
    "    (\"B.1.617.2\", \"AY.1\"),\n",
    "    # Epsilon\n",
    "    (\"B.1\", \"B.1.427\"),\n",
    "])"
   ]
  },
  {
   "cell_type": "code",
   "execution_count": null,
   "metadata": {},
   "outputs": [],
   "source": []
  }
 ],
 "metadata": {
  "kernelspec": {
   "display_name": "Python 3",
   "language": "python",
   "name": "python3"
  },
  "language_info": {
   "codemirror_mode": {
    "name": "ipython",
    "version": 3
   },
   "file_extension": ".py",
   "mimetype": "text/x-python",
   "name": "python",
   "nbconvert_exporter": "python",
   "pygments_lexer": "ipython3",
   "version": "3.6.12"
  }
 },
 "nbformat": 4,
 "nbformat_minor": 4
}
