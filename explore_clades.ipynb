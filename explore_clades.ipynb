{
 "cells": [
  {
   "cell_type": "code",
   "execution_count": 1,
   "id": "0e9f8dcb-d5a8-4ce8-beff-c5fa117a52f2",
   "metadata": {},
   "outputs": [],
   "source": [
    "import argparse\n",
    "import datetime\n",
    "import logging\n",
    "import math\n",
    "import pickle\n",
    "import re\n",
    "from collections import Counter, defaultdict\n",
    "\n",
    "import pandas as pd\n",
    "import torch\n",
    "import tqdm\n",
    "\n",
    "from pyrocov.geo import get_canonical_location_generator, gisaid_normalize\n",
    "from pyrocov.mutrans import START_DATE\n",
    "from pyrocov.sarscov2 import nuc_mutations_to_aa_mutations\n",
    "from pyrocov.usher import (\n",
    "    FineToMeso,\n",
    "    load_mutation_tree,\n",
    "    load_proto,\n",
    "    prune_mutation_tree,\n",
    "    refine_mutation_tree,\n",
    ")\n",
    "from pyrocov.util import gzip_open_tqdm\n",
    "\n",
    "logger = logging.getLogger(__name__)\n",
    "logging.basicConfig(format=\"%(relativeCreated) 9d %(message)s\", level=logging.INFO)\n",
    "\n",
    "DATE_FORMATS = {7: \"%Y-%m\", 10: \"%Y-%m-%d\"}"
   ]
  },
  {
   "cell_type": "code",
   "execution_count": 2,
   "id": "f306b734-d3e0-4878-8aca-59581b8b570f",
   "metadata": {},
   "outputs": [
    {
     "name": "stderr",
     "output_type": "stream",
     "text": [
      "usage: ipykernel_launcher.py [-h]\n",
      "                             [--usher-metadata-file-in USHER_METADATA_FILE_IN]\n",
      "                             [--nextstrain-metadata-file-in NEXTSTRAIN_METADATA_FILE_IN]\n",
      "                             [--gisaid-metadata-file-in GISAID_METADATA_FILE_IN]\n",
      "                             [--tree-file-in TREE_FILE_IN]\n",
      "                             [--tree-file-out TREE_FILE_OUT]\n",
      "                             [--stats-file-out STATS_FILE_OUT]\n",
      "                             [--recover-missing-usa-state] [-s MAX_SKIPPAGE]\n",
      "                             [-c MAX_NUM_CLADES] [--start-date START_DATE]\n",
      "ipykernel_launcher.py: error: unrecognized arguments: -f /home/kotzen/.local/share/jupyter/runtime/kernel-2cfce288-f99d-4dbc-b49a-11fb6dff9660.json\n"
     ]
    },
    {
     "ename": "SystemExit",
     "evalue": "2",
     "output_type": "error",
     "traceback": [
      "An exception has occurred, use %tb to see the full traceback.\n",
      "\u001b[0;31mSystemExit\u001b[0m\u001b[0;31m:\u001b[0m 2\n"
     ]
    },
    {
     "name": "stderr",
     "output_type": "stream",
     "text": [
      "/home/kotzen/miniconda3/lib/python3.9/site-packages/IPython/core/interactiveshell.py:3406: UserWarning: To exit: use 'exit', 'quit', or Ctrl-D.\n",
      "  warn(\"To exit: use 'exit', 'quit', or Ctrl-D.\", stacklevel=1)\n"
     ]
    }
   ],
   "source": [
    "parser = argparse.ArgumentParser(description=\"Preprocess pangolin mutations\")\n",
    "parser.add_argument(\n",
    "    \"--usher-metadata-file-in\", default=\"results/usher/metadata.tsv\"\n",
    ")\n",
    "parser.add_argument(\n",
    "    \"--nextstrain-metadata-file-in\", default=\"results/nextstrain/metadata.tsv\"\n",
    ")\n",
    "parser.add_argument(\"--gisaid-metadata-file-in\", default=\"\")\n",
    "parser.add_argument(\"--tree-file-in\", default=\"results/usher/all.masked.pb\")\n",
    "parser.add_argument(\"--tree-file-out\", default=\"results/lineageTree.fine.pb\")\n",
    "parser.add_argument(\"--stats-file-out\", default=\"results/stats.pkl\")\n",
    "parser.add_argument(\"--recover-missing-usa-state\", action=\"store_true\")\n",
    "parser.add_argument(\"-s\", \"--max-skippage\", type=float, default=1e7)\n",
    "parser.add_argument(\"-c\", \"--max-num-clades\", default=\"2000,3000,5000,10000\")\n",
    "parser.add_argument(\"--start-date\", default=START_DATE)\n",
    "args = parser.parse_args()\n",
    "args.start_date = try_parse_date(args.start_date)"
   ]
  },
  {
   "cell_type": "code",
   "execution_count": 12,
   "id": "375d3147-1302-4e84-89d1-85dee080703b",
   "metadata": {},
   "outputs": [],
   "source": [
    "import gzip\n",
    "\n",
    "from pyrocov.usher import load_proto\n",
    "from pyrocov.usher import parsimony_pb2"
   ]
  },
  {
   "cell_type": "code",
   "execution_count": 2,
   "id": "a54c56a2-aa04-461d-8c46-0cecfe2e50da",
   "metadata": {},
   "outputs": [],
   "source": [
    "filename = \"results/gisaid/gisaidAndPublic.2021-03-26.masked.pb.gz\"\n",
    "proto, tree = load_proto(filename)"
   ]
  },
  {
   "cell_type": "code",
   "execution_count": 3,
   "id": "69193274-8c1a-4eef-b169-0549384d67ad",
   "metadata": {},
   "outputs": [],
   "source": [
    "clades = list(tree.find_clades())"
   ]
  },
  {
   "cell_type": "code",
   "execution_count": 4,
   "id": "0f63e00b-47b4-4fbd-bd2b-bf61f694dc20",
   "metadata": {},
   "outputs": [
    {
     "name": "stdout",
     "output_type": "stream",
     "text": [
      "689770\n",
      "689770\n",
      "1177\n"
     ]
    }
   ],
   "source": [
    "print(len(proto.node_mutations))\n",
    "print(len(proto.metadata))\n",
    "print(len(clades))"
   ]
  },
  {
   "cell_type": "code",
   "execution_count": 15,
   "id": "f7670afa-fc18-41f1-b1b3-b36eead38000",
   "metadata": {},
   "outputs": [
    {
     "data": {
      "text/plain": [
       "[Clade(branch_length=0.0),\n",
       " Clade(branch_length=1.0),\n",
       " Clade(branch_length=1.0, name='England/BRIS-1853249/2020|20-04-02'),\n",
       " Clade(branch_length=1.0, name='Chile/RM-ISPCH-50/2020|EPI_ISL_445329|2020-03-23'),\n",
       " Clade(branch_length=1.0, name='Ireland/CO-20G33632/2020|EPI_ISL_848106|2020-03-18'),\n",
       " Clade(branch_length=0.0, name='node_2_condensed_6_leaves'),\n",
       " Clade(branch_length=1.0),\n",
       " Clade(branch_length=1.0, name='Wales/PHWC-25B04/2020|20-03-24'),\n",
       " Clade(branch_length=1.0, name='Wales/PHWC-2414F/2020|20-03-16'),\n",
       " Clade(branch_length=1.0)]"
      ]
     },
     "execution_count": 15,
     "metadata": {},
     "output_type": "execute_result"
    }
   ],
   "source": [
    "clades[:10]"
   ]
  },
  {
   "cell_type": "code",
   "execution_count": 13,
   "id": "353b1532-0b31-4041-a6ef-006f30e00c7e",
   "metadata": {},
   "outputs": [],
   "source": [
    "open_ = gzip.open if filename.endswith(\".gz\") else open\n",
    "with open_(filename, \"rb\") as f:\n",
    "    proto = parsimony_pb2.data.FromString(f.read())  # type: ignore"
   ]
  },
  {
   "cell_type": "code",
   "execution_count": 41,
   "id": "ec54013c-c1ad-417d-8654-d214496558e9",
   "metadata": {},
   "outputs": [
    {
     "data": {
      "text/plain": [
       "parsimony_pb2.node_metadata"
      ]
     },
     "execution_count": 41,
     "metadata": {},
     "output_type": "execute_result"
    }
   ],
   "source": [
    "mutations=list(proto.node_mutations)\n",
    "metadata = list(proto.metadata)\n",
    "type(metadata[0])"
   ]
  },
  {
   "cell_type": "code",
   "execution_count": 18,
   "id": "b9da144a-c0fa-4d9a-9744-2b07a93eb95d",
   "metadata": {},
   "outputs": [
    {
     "data": {
      "text/plain": [
       "1177"
      ]
     },
     "execution_count": 18,
     "metadata": {},
     "output_type": "execute_result"
    }
   ],
   "source": [
    "len(clades)"
   ]
  },
  {
   "cell_type": "code",
   "execution_count": null,
   "id": "a391281a-0a5f-45aa-b819-d186efe1ec12",
   "metadata": {},
   "outputs": [],
   "source": []
  }
 ],
 "metadata": {
  "kernelspec": {
   "display_name": "Python 3 (ipykernel)",
   "language": "python",
   "name": "python3"
  },
  "language_info": {
   "codemirror_mode": {
    "name": "ipython",
    "version": 3
   },
   "file_extension": ".py",
   "mimetype": "text/x-python",
   "name": "python",
   "nbconvert_exporter": "python",
   "pygments_lexer": "ipython3",
   "version": "3.9.12"
  }
 },
 "nbformat": 4,
 "nbformat_minor": 5
}
