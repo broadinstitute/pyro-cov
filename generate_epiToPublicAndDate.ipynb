{
 "cells": [
  {
   "cell_type": "markdown",
   "id": "2f544c93-83ef-455f-b3d0-b507d6440376",
   "metadata": {},
   "source": [
    "Preprocess files for parsing"
   ]
  },
  {
   "cell_type": "code",
   "execution_count": 4,
   "id": "7dc48887-b123-43bb-9994-321a4c47abee",
   "metadata": {},
   "outputs": [],
   "source": [
    "import pandas as pd"
   ]
  },
  {
   "cell_type": "code",
   "execution_count": 6,
   "id": "5352238b-51d6-456f-99c7-1e125e2099b2",
   "metadata": {},
   "outputs": [
    {
     "name": "stderr",
     "output_type": "stream",
     "text": [
      "/tmp/ipykernel_2032/3544606020.py:1: DtypeWarning: Columns (16) have mixed types. Specify dtype option on import or set low_memory=False.\n",
      "  gisaid_meta = pd.read_csv(\"results/gisaid/metadata_2022_07_27.tsv.gz\", sep=\"\\t\")\n"
     ]
    }
   ],
   "source": [
    "gisaid_meta = pd.read_csv(\"results/gisaid/metadata_2022_07_27.tsv.gz\", sep=\"\\t\")"
   ]
  },
  {
   "cell_type": "code",
   "execution_count": 7,
   "id": "9b3447d7-13d6-4f76-a922-8f564259bd85",
   "metadata": {},
   "outputs": [],
   "source": [
    "gisaid_meta[\"vname\"] = gisaid_meta[\"Virus name\"].str.replace(\"hCoV-19/\",\"\")\n",
    "gisaid_meta[\"vname2\"] = gisaid_meta[\"vname\"]"
   ]
  },
  {
   "cell_type": "code",
   "execution_count": 8,
   "id": "2b551436-24ed-4949-b0d2-ac863e64a5f0",
   "metadata": {},
   "outputs": [],
   "source": [
    "epi_map = gisaid_meta[[\"Accession ID\", \"vname\", \"vname2\", \"Collection date\"]]"
   ]
  },
  {
   "cell_type": "code",
   "execution_count": null,
   "id": "a20539c6-4843-4107-8e0c-f7e621103659",
   "metadata": {},
   "outputs": [],
   "source": [
    "epi_map = epi_map.sort_values(by=\"Accession ID\", ascending = True)"
   ]
  },
  {
   "cell_type": "code",
   "execution_count": null,
   "id": "66119639-6cad-4bd0-aa41-7d0d161c02f7",
   "metadata": {},
   "outputs": [],
   "source": [
    "epi_map"
   ]
  },
  {
   "cell_type": "code",
   "execution_count": null,
   "id": "c8564631-e7bc-4907-8790-1935b48df902",
   "metadata": {},
   "outputs": [],
   "source": [
    "epi_map.to_csv(\"results/gisaid/epiToPublicAndDate.latest\", header=False, sep=\"\\t\", index=False)"
   ]
  },
  {
   "cell_type": "code",
   "execution_count": null,
   "id": "017c3a6d-5fbc-444d-80cd-5fd8ccc8324d",
   "metadata": {},
   "outputs": [],
   "source": [
    "?pd.to_csv"
   ]
  },
  {
   "cell_type": "code",
   "execution_count": null,
   "id": "5b63f7f3-3742-4145-a873-d21ee6ec6f70",
   "metadata": {},
   "outputs": [],
   "source": [
    "?pd.DataFrame.to_csv"
   ]
  },
  {
   "cell_type": "code",
   "execution_count": null,
   "id": "6bc024e5-1f2c-4598-9943-6d6a77be2bd8",
   "metadata": {},
   "outputs": [],
   "source": []
  }
 ],
 "metadata": {
  "kernelspec": {
   "display_name": "Python 3 (ipykernel)",
   "language": "python",
   "name": "python3"
  },
  "language_info": {
   "codemirror_mode": {
    "name": "ipython",
    "version": 3
   },
   "file_extension": ".py",
   "mimetype": "text/x-python",
   "name": "python",
   "nbconvert_exporter": "python",
   "pygments_lexer": "ipython3",
   "version": "3.9.12"
  }
 },
 "nbformat": 4,
 "nbformat_minor": 5
}
