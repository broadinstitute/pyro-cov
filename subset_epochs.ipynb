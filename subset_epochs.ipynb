{
 "cells": [
  {
   "cell_type": "code",
   "execution_count": 1,
   "id": "73751095-db25-419c-a155-17ee129010fa",
   "metadata": {},
   "outputs": [],
   "source": [
    "import os\n",
    "\n",
    "import pandas as pd\n",
    "import gzip\n",
    "from datetime import datetime, date, timedelta"
   ]
  },
  {
   "cell_type": "code",
   "execution_count": null,
   "id": "e39a6f4e-016e-4c4f-adfc-b0508f3f45a4",
   "metadata": {},
   "outputs": [],
   "source": [
    "## Read in GISAID metadata file\n",
    "filename = \"results.2022-08-10/gisaid/metadata_2022_08_08.tsv.gz\"\n",
    "with gzip.open(filename) as g:\n",
    "    print(\"Unzipping and reading CSV...\")\n",
    "    gisaid = pd.read_csv(g, delimiter = \"\\t\")\n",
    "    print(\"Processing...\")\n",
    "    gisaid = gisaid.fillna(\"\")\n",
    "    gisaid = gisaid[~gisaid[\"AA Substitutions\"].str.contains(\"stop|B|X|Z\")] # remove sequences with stop codons or ambigous amino acids\n",
    "\n",
    "    voc_date_first_seen = {#\"alpha\": \"2020-12-02\",\n",
    "                           #\"beta\": \"2021-03-26\",\n",
    "                           #\"delta\": \"2021-03-31\",\n",
    "                           #\"BA.1\": \"2021-11-22\",\n",
    "                           #\"BA.2\": \"2021-11-27\",\n",
    "                           #\"BA.2.12.1\": \"2022-02-10\",\n",
    "                           #\"BA.4\": \"2022-04-12\"}\n",
    "\n",
    "\n",
    "    time_index = {-2, 0, 2}\n",
    "\n",
    "    print(\"Writing...\")\n",
    "    for voc in voc_date_first_seen:\n",
    "        for wk in time_index:\n",
    "            print(voc)\n",
    "            date = str(datetime.strptime(voc_date_first_seen[voc], '%Y-%m-%d') + timedelta(weeks= wk))[:10]\n",
    "            print(date)\n",
    "            gisaid_i = gisaid[gisaid[\"Submission date\"] >= date]\n",
    "            filepath = \"epochs/\"+voc+\"_wk\"+str(wk)+\"/results.\"+date+\"/gisaid\"\n",
    "            os.makedirs(filepath)\n",
    "            gisaid_i.to_csv(filepath+\"/metadata_\"+date+\".tsv.gz\", \n",
    "                            sep = '\\t',\n",
    "                            index = False, \n",
    "                            compression=\"gzip\")"
   ]
  },
  {
   "cell_type": "code",
   "execution_count": null,
   "id": "0ea06298-61a0-4260-960b-666b5e5b7991",
   "metadata": {},
   "outputs": [],
   "source": []
  }
 ],
 "metadata": {
  "kernelspec": {
   "display_name": "Python 3 (ipykernel)",
   "language": "python",
   "name": "python3"
  },
  "language_info": {
   "codemirror_mode": {
    "name": "ipython",
    "version": 3
   },
   "file_extension": ".py",
   "mimetype": "text/x-python",
   "name": "python",
   "nbconvert_exporter": "python",
   "pygments_lexer": "ipython3",
   "version": "3.9.12"
  }
 },
 "nbformat": 4,
 "nbformat_minor": 5
}
