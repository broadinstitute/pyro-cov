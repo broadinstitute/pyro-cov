{
 "cells": [
  {
   "cell_type": "markdown",
   "id": "a774cc9c-99e0-4366-a219-d3e07263fafe",
   "metadata": {},
   "source": [
    "# Explore Nextclade Mutations"
   ]
  },
  {
   "cell_type": "code",
   "execution_count": null,
   "id": "cf385db8-d4a0-4d84-8159-ce6a2f398f3e",
   "metadata": {},
   "outputs": [],
   "source": [
    "import pandas as pd\n",
    "import seaborn as sns\n",
    "import numpy as np\n",
    "import matplotlib as plt\n",
    "import pickle"
   ]
  },
  {
   "cell_type": "code",
   "execution_count": null,
   "id": "b7789887-0b54-48ff-91ec-faec48ef4853",
   "metadata": {},
   "outputs": [],
   "source": [
    "plt.rcParams['figure.figsize'] = [7, 7]\n",
    "plt.rcParams['figure.dpi'] = 100 # 200 e.g. is really fine, but slower"
   ]
  },
  {
   "cell_type": "code",
   "execution_count": null,
   "id": "d8066f38-d123-4829-a865-340738219c5f",
   "metadata": {},
   "outputs": [],
   "source": [
    "# load nextclade counts\n",
    "with open(\"results/nextclade.counts.pkl\", 'rb') as f:\n",
    "    nextclade_counts = pickle.load(f)"
   ]
  },
  {
   "cell_type": "markdown",
   "id": "be34f278-90aa-4e2e-87b8-287981adfdb2",
   "metadata": {},
   "source": [
    "## Inspect nextclade counts"
   ]
  },
  {
   "cell_type": "code",
   "execution_count": null,
   "id": "26eaf68d-75d6-4790-84b3-16ccfd8f5f04",
   "metadata": {},
   "outputs": [],
   "source": [
    "type(nextclade_counts)"
   ]
  },
  {
   "cell_type": "code",
   "execution_count": null,
   "id": "09ded38e-b46d-41e7-9996-3dcf52c62749",
   "metadata": {},
   "outputs": [],
   "source": [
    "list(nextclade_counts.keys())[0:3]"
   ]
  },
  {
   "cell_type": "code",
   "execution_count": null,
   "id": "37a9cf0d-0a60-4d92-870d-352811c5a0f6",
   "metadata": {},
   "outputs": [],
   "source": [
    "nextclade_counts[list(nextclade_counts.keys())[1]]"
   ]
  },
  {
   "cell_type": "code",
   "execution_count": null,
   "id": "92e36311-1e66-42fc-866e-aa1b47b031ee",
   "metadata": {},
   "outputs": [],
   "source": [
    "# get data frame form index\n",
    "nextclade_counts_df = pd.DataFrame.from_dict(nextclade_counts, orient='index')"
   ]
  },
  {
   "cell_type": "code",
   "execution_count": null,
   "id": "e513b40e-b2b7-433d-8abe-d5f9e3174730",
   "metadata": {},
   "outputs": [],
   "source": [
    "nextclade_counts_df.head()"
   ]
  },
  {
   "cell_type": "markdown",
   "id": "139cf01a-229e-4cea-8089-8964f6420da7",
   "metadata": {},
   "source": [
    "## Preprocess Nextclade"
   ]
  },
  {
   "cell_type": "code",
   "execution_count": null,
   "id": "33f7d919-ce95-4dde-9807-4d3ccf19cfae",
   "metadata": {},
   "outputs": [],
   "source": [
    "def preprocess_nextclade_counts(nextclade_counts_df):\n",
    "    # convert index to columns and split, extract aa changes\n",
    "    idx = nextclade_counts_df.index\n",
    "    nextclade_counts_df[['protein','aa_change']] = nextclade_counts_df.index.to_frame()[0].str.split(':',expand=True)\n",
    "    nextclade_counts_df[\"aa_from\"] = nextclade_counts_df['aa_change'].astype(str).str[0]\n",
    "    nextclade_counts_df[\"aa_to\"] = nextclade_counts_df['aa_change'].astype(str).str[-1]\n",
    "    nextclade_counts_df[\"aa_change\"] = nextclade_counts_df[\"aa_from\"] + '_' + nextclade_counts_df[\"aa_to\"]\n",
    "    nextclade_counts_df = nextclade_counts_df.rename(columns={0:'count'})\n",
    "    \n",
    "    return nextclade_counts_df"
   ]
  },
  {
   "cell_type": "code",
   "execution_count": null,
   "id": "5e906146-9a61-411c-83f6-512ed22524f0",
   "metadata": {},
   "outputs": [],
   "source": [
    "nextclade_counts_df = preprocess_nextclade_counts(nextclade_counts_df)"
   ]
  },
  {
   "cell_type": "code",
   "execution_count": null,
   "id": "884c106b-7f75-416d-bc40-db87612a0033",
   "metadata": {},
   "outputs": [],
   "source": [
    "# inspect\n",
    "nextclade_counts_df.head()"
   ]
  },
  {
   "cell_type": "markdown",
   "id": "592f6056-d90f-4c51-b492-8f71c35e9939",
   "metadata": {},
   "source": [
    "## Nextclade: sum of event occurences"
   ]
  },
  {
   "cell_type": "code",
   "execution_count": null,
   "id": "6fb9d6f4-b78e-4c25-88bd-800425f22b41",
   "metadata": {},
   "outputs": [],
   "source": [
    "# Get total summed counts\n",
    "summarized_counts = nextclade_counts_df.groupby(['aa_from','aa_to']).agg({'count':'sum'})"
   ]
  },
  {
   "cell_type": "code",
   "execution_count": null,
   "id": "3d8fc365-cf9e-4a13-87da-f858e0f144ca",
   "metadata": {},
   "outputs": [],
   "source": [
    "summarized_counts.head()"
   ]
  },
  {
   "cell_type": "code",
   "execution_count": null,
   "id": "83546ca0-444e-4fb6-8cd0-798883ea5729",
   "metadata": {},
   "outputs": [],
   "source": [
    "# Sanity check -- OK\n",
    "nextclade_counts_df[(nextclade_counts_df['aa_to'] == 'E') & (nextclade_counts_df['aa_from'] == '*')]"
   ]
  },
  {
   "cell_type": "code",
   "execution_count": null,
   "id": "4a820e33-2e8b-474e-b2d6-11cd1befb50b",
   "metadata": {},
   "outputs": [],
   "source": [
    "summarized_counts_1 = summarized_counts['count']\n",
    "summarized_counts_1 = summarized_counts_1.reset_index()\n",
    "nextclade_comparison_table = summarized_counts_1.copy()\n",
    "aa_changes = summarized_counts_1.pivot(index='aa_from',columns='aa_to',values='count')"
   ]
  },
  {
   "cell_type": "code",
   "execution_count": null,
   "id": "5315bf83-5743-4ef2-88a9-e361babac1ee",
   "metadata": {},
   "outputs": [],
   "source": [
    "aa_changes"
   ]
  },
  {
   "cell_type": "code",
   "execution_count": null,
   "id": "24cc9172-60f3-4d54-8be0-1616a29d4331",
   "metadata": {},
   "outputs": [],
   "source": [
    "aa_changes_np = aa_changes.to_numpy()\n",
    "aa_changes_np = np.nan_to_num(aa_changes_np, nan=0.0)"
   ]
  },
  {
   "cell_type": "code",
   "execution_count": null,
   "id": "a5ef0578-977f-4b7e-a66c-732a6d8db762",
   "metadata": {},
   "outputs": [],
   "source": [
    "# Sanity Check\n",
    "aa_changes_np.max()"
   ]
  },
  {
   "cell_type": "code",
   "execution_count": null,
   "id": "bcaff0fb-793e-489c-8345-551be7854a1e",
   "metadata": {},
   "outputs": [],
   "source": [
    "argmax_row_num = aa_changes_np.argmax() // aa_changes_np.shape[1]\n",
    "argmax_col_num = aa_changes_np.argmax() % aa_changes_np.shape[1]\n",
    "print(f\"Maximal value is at ({argmax_row_num}, {argmax_col_num}), zero-indexed\")"
   ]
  },
  {
   "cell_type": "code",
   "execution_count": null,
   "id": "8308b524-a69e-46cb-9347-a688c2bda946",
   "metadata": {},
   "outputs": [],
   "source": [
    "aa_changes_np[17,9]"
   ]
  },
  {
   "cell_type": "code",
   "execution_count": null,
   "id": "f72e093d-0277-4b10-9e53-34951d8fe920",
   "metadata": {},
   "outputs": [],
   "source": [
    "aa_changes.columns[9]"
   ]
  },
  {
   "cell_type": "code",
   "execution_count": null,
   "id": "77bdaf16-cebb-4b4c-a594-327d0e701ab3",
   "metadata": {},
   "outputs": [],
   "source": [
    "aa_changes.index[17]"
   ]
  },
  {
   "cell_type": "code",
   "execution_count": null,
   "id": "8d056ad5-02c8-4880-b076-c5906fcb8121",
   "metadata": {},
   "outputs": [],
   "source": [
    "# OK\n",
    "summarized_counts.loc[[(\"T\",\"I\")]]"
   ]
  },
  {
   "cell_type": "code",
   "execution_count": null,
   "id": "b370448d-df43-47a8-9460-b77b40ef7427",
   "metadata": {},
   "outputs": [],
   "source": [
    "fig = sns.heatmap(aa_changes_np,\n",
    "            xticklabels=aa_changes.columns,\n",
    "            yticklabels=aa_changes.index,)\n",
    "\n",
    "fig.set(xlabel='aa_to',ylabel='aa_from',title='Total aa changes in Nextclade')"
   ]
  },
  {
   "cell_type": "markdown",
   "id": "c9688be6-f0e5-4642-a109-97c9c17d7d4c",
   "metadata": {},
   "source": [
    "## Compare with mutations.tsv"
   ]
  },
  {
   "cell_type": "code",
   "execution_count": null,
   "id": "297063c7-2be0-4d34-86f9-2b0cea60469e",
   "metadata": {},
   "outputs": [],
   "source": [
    "def preprocess_mutations(mutations_tsv):\n",
    "    mutations_tsv[['gene','aa_change']] = mutations_tsv['mutation'].str.split(':',expand=True)\n",
    "    mutations_tsv['aa_from'] = mutations_tsv['aa_change'].str[0:1]\n",
    "    mutations_tsv['aa_to'] = mutations_tsv['aa_change'].str[-1]\n",
    "    mutations_tsv['aa_position'] = mutations_tsv['aa_change'].str[1:-1]\n",
    "    return mutations_tsv"
   ]
  },
  {
   "cell_type": "code",
   "execution_count": null,
   "id": "5f78a6dd-ea1d-46bd-975f-f830de75a25f",
   "metadata": {},
   "outputs": [],
   "source": [
    "mutations_tsv = pd.read_table('paper/mutations.tsv')\n",
    "mutations_proc = preprocess_mutations(mutations_tsv)"
   ]
  },
  {
   "cell_type": "code",
   "execution_count": null,
   "id": "11e09bc5-5db7-4a2b-bc0f-a6b8df0402bf",
   "metadata": {},
   "outputs": [],
   "source": [
    "mutations_proc.head()"
   ]
  },
  {
   "cell_type": "code",
   "execution_count": null,
   "id": "48538323-a0ff-4b86-be41-512a47c59e03",
   "metadata": {},
   "outputs": [],
   "source": [
    "def get_top55_spike(mutations_proc):\n",
    "    return mutations_proc[mutations_proc['gene'] == 'S'].sort_values('Δ log R', ascending=False).head(55)"
   ]
  },
  {
   "cell_type": "code",
   "execution_count": null,
   "id": "15b031b7-86f6-4bd4-ad78-5da71e0558bd",
   "metadata": {},
   "outputs": [],
   "source": [
    "def get_event_frequencies(mutations_proc):\n",
    "    mutations_1 = mutations_proc[['aa_from','aa_to']].copy()\n",
    "    mutations_1['count'] = 1\n",
    "    mutations_1 = mutations_1.groupby(['aa_from','aa_to']).aggregate({'count':'sum'})\n",
    "    mutations_1 = mutations_1.reset_index()\n",
    "    pre_pivot = mutations_1.copy()\n",
    "    mutations_1 = mutations_1.pivot(index='aa_from',columns='aa_to',values='count')\n",
    "    cols = mutations_1.columns\n",
    "    rows = mutations_1.index\n",
    "    \n",
    "    mutations_1 = mutations_1.values\n",
    "    mutations_1 = np.nan_to_num(mutations_1, 0)\n",
    "    \n",
    "    return {\n",
    "        'vals': mutations_1,\n",
    "        'cols': cols,\n",
    "        'rows': rows,     \n",
    "        'prepivot': pre_pivot,\n",
    "    }"
   ]
  },
  {
   "cell_type": "code",
   "execution_count": null,
   "id": "39077e0d-8c5d-47f7-97fe-09633abc3a35",
   "metadata": {},
   "outputs": [],
   "source": [
    "mutations_1 = get_event_frequencies(mutations_proc)"
   ]
  },
  {
   "cell_type": "code",
   "execution_count": null,
   "id": "86e70a6b-821b-412e-9a56-bf554c1c5dd4",
   "metadata": {},
   "outputs": [],
   "source": [
    "mutations_tsv_comparison_table = mutations_1['prepivot']"
   ]
  },
  {
   "cell_type": "code",
   "execution_count": null,
   "id": "b7d27326-1635-4ae8-bef8-cda3c8a9fd6c",
   "metadata": {},
   "outputs": [],
   "source": [
    "mutations_1"
   ]
  },
  {
   "cell_type": "code",
   "execution_count": null,
   "id": "39e422c5-ee6d-4048-9c16-788ccbead8d1",
   "metadata": {},
   "outputs": [],
   "source": [
    "fig = sns.heatmap(mutations_1['vals'],\n",
    "            xticklabels=mutations_1['cols'],\n",
    "            yticklabels=mutations_1['rows'],)\n",
    "\n",
    "fig.set(xlabel='aa_to',ylabel='aa_from',title='Total types of aa changes in Mutations.tsv')"
   ]
  },
  {
   "cell_type": "code",
   "execution_count": null,
   "id": "66d7ad1e-1f3f-4459-ac38-5cb5b5e0bc22",
   "metadata": {},
   "outputs": [],
   "source": [
    "# Obtain Statistical significance and deltas for each event type"
   ]
  },
  {
   "cell_type": "code",
   "execution_count": null,
   "id": "652cb46b-8de2-48da-b593-c0fe89ac0eb4",
   "metadata": {},
   "outputs": [],
   "source": [
    "mutations_tsv_comparison_table"
   ]
  },
  {
   "cell_type": "code",
   "execution_count": null,
   "id": "c48750a1-3c68-4734-985a-596df52d0d02",
   "metadata": {},
   "outputs": [],
   "source": [
    "nextclade_comparison_table"
   ]
  },
  {
   "cell_type": "code",
   "execution_count": null,
   "id": "2b94bbef-0813-4f0b-856c-ef65e5ccf27f",
   "metadata": {},
   "outputs": [],
   "source": [
    "set(mutations_tsv_comparison_table['aa_from'].unique())"
   ]
  },
  {
   "cell_type": "code",
   "execution_count": null,
   "id": "58652978-4913-4628-baad-1c687a48be58",
   "metadata": {},
   "outputs": [],
   "source": [
    "def score_mutations(test_data, background_data, exclude_mutations = set(('*')), verbose=True):\n",
    "    # from\n",
    "    test_mutations_from = set(test_data['aa_from'].unique())\n",
    "    bg_mutations_from = set(background_data['aa_from'].unique())\n",
    "    common_mutations_from = test_mutations_from.intersection(bg_mutations_from)\n",
    "    used_mutations_from = common_mutations_from - exclude_mutations\n",
    "    \n",
    "    # to\n",
    "    test_mutations_to = set(test_data['aa_to'].unique())\n",
    "    bg_mutations_to = set(background_data['aa_to'].unique())\n",
    "    common_mutations_to = test_mutations_to.intersection(bg_mutations_to)\n",
    "    used_mutations_to = common_mutations_to - exclude_mutations\n",
    "    \n",
    "    # subset\n",
    "    test_data_subset = test_data[\n",
    "        (test_data['aa_from'].isin(used_mutations_from)) & \n",
    "        (test_data['aa_to'].isin(used_mutations_to))\n",
    "    ]\n",
    "    bg_data_subset = background_data[\n",
    "        (background_data['aa_from'].isin(used_mutations_from)) &\n",
    "        (background_data['aa_to'].isin(used_mutations_to))\n",
    "    ]\n",
    "    \n",
    "    test_sum = test_data_subset['count'].sum()\n",
    "    bg_sum = bg_data_subset['count'].sum()\n",
    "    \n",
    "    n_tests = len(used_mutations_from) * len(used_mutations_to)\n",
    "    alpha = 0.05\n",
    "    threshold = alpha / n_tests\n",
    "    \n",
    "    ret = {'from': [], 'to': [], 'pval': [], 'obs': [], 'exp': [], 'significant': []}\n",
    "    \n",
    "    # Calculate background \n",
    "    for from_mut in used_mutations_from:\n",
    "        for to_mut in used_mutations_to:\n",
    "            obs_count = test_data_subset.loc[\n",
    "                (test_data_subset['aa_from'] == from_mut) &\n",
    "                (test_data_subset['aa_to'] == to_mut)\n",
    "            ]['count'].values\n",
    "            if len(obs_count) ==1:\n",
    "                obs_count = obs_count[0]\n",
    "            else:\n",
    "                obs_count = 0\n",
    "                \n",
    "            bg_count = bg_data_subset.loc[\n",
    "                (bg_data_subset['aa_from'] == from_mut) &\n",
    "                (bg_data_subset['aa_to'] == to_mut)\n",
    "            ]['count'].values\n",
    "            if len(bg_count) == 1:\n",
    "                bg_count = bg_count[0]\n",
    "            else:\n",
    "                bg_count = 0\n",
    "            \n",
    "            bg_prob = bg_count / bg_sum\n",
    "            \n",
    "            pval = stats.binom_test(obs_count, test_sum, bg_prob, alternative='greater')\n",
    "            sign = pval < threshold\n",
    "             \n",
    "            if (verbose):\n",
    "                print(f\"{from_mut} -> {to_mut}, obs: {obs_count}/{test_sum} bg_prob: {bg_prob}, pval: {pval}\")\n",
    "    \n",
    "            ret['from'].append(from_mut)\n",
    "            ret['to'].append(to_mut)\n",
    "            ret['obs'].append(obs_count)\n",
    "            ret['exp'].append((bg_prob * test_sum))\n",
    "            ret['pval'].append(pval)\n",
    "            ret['significant'].append(sign)\n",
    "            \n",
    "    results = pd.DataFrame(ret)\n",
    "    \n",
    "    results = results.sort_values('pval')\n",
    "    \n",
    "    return results"
   ]
  },
  {
   "cell_type": "code",
   "execution_count": null,
   "id": "52cd1de0-070c-400f-8400-8cf4c838d32f",
   "metadata": {},
   "outputs": [],
   "source": [
    "import scipy.stats as stats"
   ]
  },
  {
   "cell_type": "code",
   "execution_count": null,
   "id": "da1bb586-058c-474b-98e6-2b0adbf72834",
   "metadata": {},
   "outputs": [],
   "source": [
    "stats.binom_test(50, 100, 0.5)"
   ]
  },
  {
   "cell_type": "code",
   "execution_count": null,
   "id": "d54a0778-1ab0-4a82-afc3-58ee0b84e2d3",
   "metadata": {},
   "outputs": [],
   "source": [
    "# Mutations vs Nextclade\n",
    "r = score_mutations(mutations_tsv_comparison_table, nextclade_comparison_table, verbose = False)"
   ]
  },
  {
   "cell_type": "code",
   "execution_count": null,
   "id": "1c859036-e906-42c9-8131-779937517f16",
   "metadata": {},
   "outputs": [],
   "source": [
    "#r.to_csv('score_mutations.csv')"
   ]
  },
  {
   "cell_type": "code",
   "execution_count": null,
   "id": "98a8d283-26ef-460e-847e-e085944793a0",
   "metadata": {},
   "outputs": [],
   "source": [
    "r.head(40)"
   ]
  },
  {
   "cell_type": "markdown",
   "id": "cc6e88e8-11f6-4527-a5b2-cba831dcd2c0",
   "metadata": {},
   "source": [
    "## Enrichment of top mutations"
   ]
  },
  {
   "cell_type": "code",
   "execution_count": null,
   "id": "6598c1a8-74aa-48ec-8ef0-0c4a621f433f",
   "metadata": {},
   "outputs": [],
   "source": [
    "mutations_tsv_comparison_table.head()"
   ]
  },
  {
   "cell_type": "code",
   "execution_count": null,
   "id": "f2602f5d-6554-4f8f-8685-9242bc7b466d",
   "metadata": {},
   "outputs": [],
   "source": [
    "top55_spike = mutations_proc.loc[mutations_proc['gene'] == 'S'].sort_values('Δ log R',ascending =False).head(55)"
   ]
  },
  {
   "cell_type": "code",
   "execution_count": null,
   "id": "4edcb6d0-87c1-49d8-8808-c491fa6544fc",
   "metadata": {},
   "outputs": [],
   "source": [
    "top55_spike_freq = get_event_frequencies(top55_spike)"
   ]
  },
  {
   "cell_type": "code",
   "execution_count": null,
   "id": "94ece6f0-3a11-454c-81fa-e4bf397f9158",
   "metadata": {},
   "outputs": [],
   "source": [
    "top55_spike_freq"
   ]
  },
  {
   "cell_type": "code",
   "execution_count": null,
   "id": "778f4930-0496-483c-8414-dc36305b9a5a",
   "metadata": {},
   "outputs": [],
   "source": [
    "mutations_tsv_comparison_table\n",
    "top55_spike_freq['prepivot']\n",
    "nextclade_comparison_table"
   ]
  },
  {
   "cell_type": "markdown",
   "id": "4b4f7cad-4089-4181-9873-b5dd50d98306",
   "metadata": {},
   "source": [
    "# In Summary"
   ]
  },
  {
   "cell_type": "markdown",
   "id": "b9f21b6a-6912-4eb9-a699-9cd251e85e0c",
   "metadata": {},
   "source": [
    "## Input to model VS nextclade"
   ]
  },
  {
   "cell_type": "code",
   "execution_count": null,
   "id": "1e69ac95-0991-473f-a23e-f82296c18adc",
   "metadata": {},
   "outputs": [],
   "source": [
    "r = score_mutations(mutations_tsv_comparison_table, nextclade_comparison_table, verbose = False)"
   ]
  },
  {
   "cell_type": "code",
   "execution_count": null,
   "id": "0c9b1fc9-1728-4568-96a3-35a9789229b5",
   "metadata": {},
   "outputs": [],
   "source": [
    "r[(r['from'] == 'V') & (r['to'] == 'F')]"
   ]
  },
  {
   "cell_type": "code",
   "execution_count": null,
   "id": "2b9feeb2-3ba9-4a66-9f39-d3c8ce0c0b81",
   "metadata": {},
   "outputs": [],
   "source": [
    "r[(r['from'] == 'A') & (r['to'] == 'V')]"
   ]
  },
  {
   "cell_type": "markdown",
   "id": "d3442765-792f-418c-a96f-a291e9cbc1e1",
   "metadata": {},
   "source": [
    "## Top 55 VS Input to Model"
   ]
  },
  {
   "cell_type": "code",
   "execution_count": null,
   "id": "1354164f-1dd9-4362-984b-b1068849fa59",
   "metadata": {},
   "outputs": [],
   "source": [
    "r = score_mutations(top55_spike_freq['prepivot'], mutations_tsv_comparison_table, verbose = False)"
   ]
  },
  {
   "cell_type": "code",
   "execution_count": null,
   "id": "297a7dea-d98a-42d0-b229-9c39afc301a0",
   "metadata": {},
   "outputs": [],
   "source": [
    "r[(r['from'] == 'V') & (r['to'] == 'F')]"
   ]
  },
  {
   "cell_type": "code",
   "execution_count": null,
   "id": "00f2b92f-9ac3-49f0-a3d0-b6790de2a3eb",
   "metadata": {},
   "outputs": [],
   "source": [
    "r[(r['from'] == 'A') & (r['to'] == 'V')]"
   ]
  },
  {
   "cell_type": "markdown",
   "id": "78a0fda6-ccf5-4ef9-bae9-181a859303b2",
   "metadata": {},
   "source": [
    "## Top 55 VS nextclade"
   ]
  },
  {
   "cell_type": "code",
   "execution_count": null,
   "id": "eb846453-01a2-462c-af8c-235857f69082",
   "metadata": {},
   "outputs": [],
   "source": [
    "r = score_mutations(top55_spike_freq['prepivot'], nextclade_comparison_table, verbose = False)"
   ]
  },
  {
   "cell_type": "code",
   "execution_count": null,
   "id": "6908aae3-2d75-4cdd-bb88-2290646756ef",
   "metadata": {},
   "outputs": [],
   "source": [
    "r[(r['from'] == 'V') & (r['to'] == 'F')]"
   ]
  },
  {
   "cell_type": "code",
   "execution_count": null,
   "id": "efe499ce-28c2-40aa-9c22-a3527a45b8a8",
   "metadata": {},
   "outputs": [],
   "source": [
    "r[(r['from'] == 'A') & (r['to'] == 'V')]"
   ]
  },
  {
   "cell_type": "code",
   "execution_count": null,
   "id": "aa118e3b-9d05-47b9-8b3a-fd4fb1cfc8f0",
   "metadata": {},
   "outputs": [],
   "source": []
  }
 ],
 "metadata": {
  "kernelspec": {
   "display_name": "Python 3",
   "language": "python",
   "name": "python3"
  },
  "language_info": {
   "codemirror_mode": {
    "name": "ipython",
    "version": 3
   },
   "file_extension": ".py",
   "mimetype": "text/x-python",
   "name": "python",
   "nbconvert_exporter": "python",
   "pygments_lexer": "ipython3",
   "version": "3.8.8"
  }
 },
 "nbformat": 4,
 "nbformat_minor": 5
}
