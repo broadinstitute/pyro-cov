{
 "cells": [
  {
   "cell_type": "markdown",
   "metadata": {},
   "source": [
    "# Backtesting\n",
    "\n",
    "This notebook generates plots for for backtesting. It requires that the script `run_backtesting.sh` has been run prior to execution."
   ]
  },
  {
   "cell_type": "code",
   "execution_count": null,
   "metadata": {},
   "outputs": [],
   "source": [
    "# imports\n",
    "import datetime\n",
    "import math\n",
    "import os\n",
    "import pickle\n",
    "import re\n",
    "import logging\n",
    "from collections import Counter, OrderedDict, defaultdict\n",
    "import numpy as np\n",
    "import matplotlib\n",
    "import matplotlib.pyplot as plt\n",
    "import pandas as pd\n",
    "import torch\n",
    "import pyro.distributions as dist\n",
    "from pyrocov import mutrans, pangolin, stats\n",
    "from pyrocov.stats import normal_log10bf\n",
    "from pyrocov.util import pretty_print, pearson_correlation\n",
    "import seaborn as sns"
   ]
  },
  {
   "cell_type": "code",
   "execution_count": null,
   "metadata": {},
   "outputs": [],
   "source": [
    "# configure logging\n",
    "logging.basicConfig(format=\"%(relativeCreated) 9d %(message)s\", level=logging.INFO)"
   ]
  },
  {
   "cell_type": "code",
   "execution_count": null,
   "metadata": {},
   "outputs": [],
   "source": [
    "# This line can be used to modify logging as required\n",
    "logging.getLogger().setLevel(logging.INFO)"
   ]
  },
  {
   "cell_type": "code",
   "execution_count": null,
   "metadata": {},
   "outputs": [],
   "source": [
    "# set matplotlib params\n",
    "matplotlib.rcParams[\"figure.dpi\"] = 200\n",
    "matplotlib.rcParams['figure.figsize'] = [8, 8]\n",
    "matplotlib.rcParams[\"axes.edgecolor\"] = \"gray\"\n",
    "matplotlib.rcParams[\"savefig.bbox\"] = \"tight\"\n",
    "matplotlib.rcParams['font.family'] = 'sans-serif'\n",
    "matplotlib.rcParams['font.sans-serif'] = ['Arial', 'Avenir', 'DejaVu Sans']"
   ]
  },
  {
   "cell_type": "markdown",
   "metadata": {},
   "source": [
    "## Load data"
   ]
  },
  {
   "cell_type": "code",
   "execution_count": null,
   "metadata": {},
   "outputs": [],
   "source": [
    "with open(\"results/gisaid.columns.pkl\", \"rb\") as f:\n",
    "    columns = pickle.load(f)\n",
    "print(\"Loaded data from {} samples\".format(len(columns[\"lineage\"])))"
   ]
  },
  {
   "cell_type": "code",
   "execution_count": null,
   "metadata": {},
   "outputs": [],
   "source": [
    "type(columns)"
   ]
  },
  {
   "cell_type": "code",
   "execution_count": null,
   "metadata": {},
   "outputs": [],
   "source": [
    "columns.keys()"
   ]
  },
  {
   "cell_type": "code",
   "execution_count": null,
   "metadata": {},
   "outputs": [],
   "source": [
    "for k in columns.keys():\n",
    "    print(k, columns[k][0:2])"
   ]
  },
  {
   "cell_type": "markdown",
   "metadata": {},
   "source": [
    "## Load trained models"
   ]
  },
  {
   "cell_type": "code",
   "execution_count": null,
   "metadata": {},
   "outputs": [],
   "source": [
    "fits = torch.load(\"results/mutrans.pt\", map_location=\"cpu\")"
   ]
  },
  {
   "cell_type": "code",
   "execution_count": null,
   "metadata": {},
   "outputs": [],
   "source": [
    "# print info on available models and what the keys are\n",
    "if False:\n",
    "    for key in fits:\n",
    "        print(key)\n",
    "    first_key = list(fits.keys())[0]\n",
    "    fits[first_key].keys()"
   ]
  },
  {
   "cell_type": "code",
   "execution_count": null,
   "metadata": {},
   "outputs": [],
   "source": [
    "# Print the shape of the weekly strains in each fit\n",
    "if False:\n",
    "    for fit in fits.values():\n",
    "        print(fit[\"weekly_strains_shape\"])"
   ]
  },
  {
   "cell_type": "code",
   "execution_count": null,
   "metadata": {},
   "outputs": [],
   "source": [
    "# This is really just the second fit\n",
    "#selected_fit = list(fits.values())[1]\n",
    "#pretty_print(selected_fit, max_items=40)"
   ]
  },
  {
   "cell_type": "markdown",
   "metadata": {},
   "source": [
    "Scale `coef` by 1/100 in all results."
   ]
  },
  {
   "cell_type": "code",
   "execution_count": null,
   "metadata": {},
   "outputs": [],
   "source": [
    "ALREADY_SCALED = set()\n",
    "\n",
    "def scale_tensors(x, names={\"coef\"}, scale=0.01, prefix=\"\", verbose=True):\n",
    "    if id(x) in ALREADY_SCALED:\n",
    "        return\n",
    "    if isinstance(x, dict):\n",
    "        for k, v in list(x.items()):\n",
    "            if k in names:\n",
    "                if verbose:\n",
    "                    print(f\"{prefix}.{k}\")\n",
    "                x[k] = v * scale\n",
    "            elif k == \"diagnostics\":\n",
    "                continue\n",
    "            else:\n",
    "                scale_tensors(v, names, scale, f\"{prefix}.{k}\", verbose=verbose)\n",
    "    ALREADY_SCALED.add(id(x))\n",
    "                \n",
    "scale_tensors(fits, verbose=False)"
   ]
  },
  {
   "cell_type": "markdown",
   "metadata": {},
   "source": [
    "# Forecasting"
   ]
  },
  {
   "cell_type": "code",
   "execution_count": null,
   "metadata": {},
   "outputs": [],
   "source": [
    "import importlib\n",
    "from pyrocov import mutrans_helpers"
   ]
  },
  {
   "cell_type": "code",
   "execution_count": null,
   "metadata": {},
   "outputs": [],
   "source": [
    "# customize logging\n",
    "if False:\n",
    "    logging.getLogger().setLevel(logging.ERROR)"
   ]
  },
  {
   "cell_type": "markdown",
   "metadata": {},
   "source": [
    "## Day 542: Last available"
   ]
  },
  {
   "cell_type": "code",
   "execution_count": null,
   "metadata": {},
   "outputs": [],
   "source": [
    "if False:\n",
    "    logging.getLogger().setLevel(logging.INFO)"
   ]
  },
  {
   "cell_type": "code",
   "execution_count": null,
   "metadata": {},
   "outputs": [],
   "source": [
    "importlib.reload(mutrans_helpers)\n",
    "\n",
    "i = len(fits) - 1\n",
    "key, latest_fit = mutrans_helpers.get_fit_by_index(fits, i)\n",
    "print(f\"Max days of model: {key[8]}\")\n",
    "\n",
    "strains_from_manuscript_figure = ['B.1.1.7','B.1.617.2','B.1.177','B.1.429','P.1',\n",
    "                                 'B.1.1','B.1','B.1.427','B.1.2','B.1.177.4']\n",
    "\n",
    "matplotlib.rcParams['figure.figsize'] = [10, 4]\n",
    "mutrans_helpers.plot_fit_forecasts(\n",
    "    fit=latest_fit, \n",
    "    strains_to_show=strains_from_manuscript_figure,\n",
    "    queries=['England'],\n",
    "    filename=\"paper/forecasts/forecast_day_542.png\"\n",
    ")"
   ]
  },
  {
   "cell_type": "markdown",
   "metadata": {},
   "source": [
    "## Day 346:  B.1.1.7 in UK"
   ]
  },
  {
   "cell_type": "code",
   "execution_count": null,
   "metadata": {},
   "outputs": [],
   "source": [
    "importlib.reload(mutrans_helpers)\n",
    "\n",
    "i = 14\n",
    "key, fit_d346 = mutrans_helpers.get_fit_by_index(fits, i)\n",
    "print(f\"Max days of model: {key[8]}\")\n",
    "\n",
    "strains_from_manuscript_figure = ['B.1.1.7','B.1.617.2','B.1.177','B.1.429','P.1',\n",
    "                                 'B.1.1','B.1','B.1.427','B.1.2','B.1.177.4']\n",
    "\n",
    "matplotlib.rcParams['figure.figsize'] = [10, 4]\n",
    "mutrans_helpers.plot_fit_forecasts(\n",
    "    fit=fit_d346, \n",
    "    strains_to_show=strains_from_manuscript_figure,queries=['England'],\n",
    "    future_fit=latest_fit,\n",
    "    num_strains=2000,\n",
    "    filename=\"paper/forecasts/forecast_day_346.png\"\n",
    ")"
   ]
  },
  {
   "cell_type": "code",
   "execution_count": null,
   "metadata": {},
   "outputs": [],
   "source": [
    "importlib.reload(mutrans_helpers)"
   ]
  },
  {
   "cell_type": "code",
   "execution_count": null,
   "metadata": {},
   "outputs": [],
   "source": [
    "%load_ext autoreload\n",
    "%autoreload 2"
   ]
  },
  {
   "cell_type": "code",
   "execution_count": null,
   "metadata": {},
   "outputs": [],
   "source": [
    "q = {\"England\": ['B.1','B.1.1.7','B.1.177','B.1.177.4']}\n",
    "\n",
    "fit_eval_d346 = mutrans_helpers.evaluate_fit_forecast(fit_d346, latest_fit)"
   ]
  },
  {
   "cell_type": "code",
   "execution_count": null,
   "metadata": {},
   "outputs": [],
   "source": [
    "# TODO: make multiple of these for all the models and add to preprint"
   ]
  },
  {
   "cell_type": "code",
   "execution_count": null,
   "metadata": {},
   "outputs": [],
   "source": [
    "plt.plot(fit_eval_d346['kl'])\n",
    "plt.ylim(0, None)\n",
    "plt.ylabel(\"KL divergence\")\n",
    "plt.xlabel(\"Time into future\");"
   ]
  },
  {
   "cell_type": "code",
   "execution_count": null,
   "metadata": {},
   "outputs": [],
   "source": [
    "plt.plot(-fit_eval_d346['log_likelihood'], \"r-\");\n",
    "plt.plot(fit_eval_d346['entropy'], \"k--\");\n",
    "plt.plot(fit_eval_d346['kl'], \"g--\");"
   ]
  },
  {
   "cell_type": "code",
   "execution_count": null,
   "metadata": {},
   "outputs": [],
   "source": [
    "plt.plot(fit_eval_d346['log_likelihood'].exp(), \"r-\");\n",
    "plt.plot((-fit_eval_d346['entropy']).exp(), \"k--\");"
   ]
  },
  {
   "cell_type": "markdown",
   "metadata": {},
   "source": [
    "# Day 234: B.1.617.2 in UK"
   ]
  },
  {
   "cell_type": "code",
   "execution_count": null,
   "metadata": {},
   "outputs": [],
   "source": [
    "importlib.reload(mutrans_helpers)"
   ]
  },
  {
   "cell_type": "code",
   "execution_count": null,
   "metadata": {},
   "outputs": [],
   "source": [
    "i = 26\n",
    "key, fit_d514 = mutrans_helpers.get_fit_by_index(fits, i)\n",
    "print(f\"Max days of model: {key[8]}\")\n",
    "\n",
    "strains_from_manuscript_figure = ['B.1.1.7','B.1.617.2','B.1.177','B.1.429','P.1',\n",
    "                                 'B.1.1','B.1','B.1.427','B.1.2','B.1.177.4']\n",
    "\n",
    "matplotlib.rcParams['figure.figsize'] = [10, 4]\n",
    "mutrans_helpers.plot_fit_forecasts(\n",
    "    fit=fit_d514, \n",
    "    strains_to_show=strains_from_manuscript_figure,\n",
    "    queries=['England'],\n",
    "    future_fit=latest_fit,\n",
    "    filename='paper/forecasts/forecast_day_514.png',\n",
    "    forecast_periods_plot=2,\n",
    ")"
   ]
  },
  {
   "cell_type": "code",
   "execution_count": null,
   "metadata": {},
   "outputs": [],
   "source": [
    "mutrans_helpers.evaluate_fit_forecast(fit_d514, latest_fit)"
   ]
  },
  {
   "cell_type": "code",
   "execution_count": null,
   "metadata": {},
   "outputs": [],
   "source": [
    "type(fits)"
   ]
  },
  {
   "cell_type": "code",
   "execution_count": null,
   "metadata": {},
   "outputs": [],
   "source": [
    "fits.values()"
   ]
  },
  {
   "cell_type": "code",
   "execution_count": null,
   "metadata": {},
   "outputs": [],
   "source": [
    "evaluations = [(k,mutrans_helpers.evaluate_fit_forecast(f, latest_fit)) for k,f in fits.items()]"
   ]
  },
  {
   "cell_type": "code",
   "execution_count": null,
   "metadata": {},
   "outputs": [],
   "source": [
    "#mutrans_helpers.evaluate_fit_forecast(fit_d514, latest_fit)"
   ]
  },
  {
   "cell_type": "code",
   "execution_count": null,
   "metadata": {},
   "outputs": [],
   "source": [
    "x = np.linspace(0.0, 1.0, len(evaluations)+1)"
   ]
  },
  {
   "cell_type": "code",
   "execution_count": null,
   "metadata": {},
   "outputs": [],
   "source": [
    "cmap = matplotlib.cm.get_cmap('rainbow')"
   ]
  },
  {
   "cell_type": "code",
   "execution_count": null,
   "metadata": {},
   "outputs": [],
   "source": [
    "import matplotlib.colors as mcolors\n",
    "import matplotlib.cm as cm\n",
    "import numpy as np"
   ]
  },
  {
   "cell_type": "code",
   "execution_count": null,
   "metadata": {},
   "outputs": [],
   "source": [
    "nValues = [k[8] for k,v in evaluations]\n",
    "nValues = np.array(nValues)"
   ]
  },
  {
   "cell_type": "code",
   "execution_count": null,
   "metadata": {},
   "outputs": [],
   "source": [
    "# setup the normalization and the colormap\n",
    "normalize = mcolors.Normalize(vmin=nValues.min(), vmax=nValues.max())\n",
    "colormap = cm.jet"
   ]
  },
  {
   "cell_type": "code",
   "execution_count": null,
   "metadata": {},
   "outputs": [],
   "source": [
    "for i,(k,v) in enumerate(evaluations):\n",
    "    model_days = k[8]\n",
    "    kl = v['kl']\n",
    "    plt.plot(kl, color=colormap(normalize(model_days)))\n",
    "\n",
    "# setup the colorbar\n",
    "scalarmappaple = cm.ScalarMappable(norm=normalize, cmap=colormap)\n",
    "scalarmappaple.set_array(nValues)\n",
    "plt.colorbar(scalarmappaple, label='Max training day of model')\n",
    "\n",
    "plt.xlim(0, 11)\n",
    "\n",
    "plt.xticks([0, 2, 4, 6, 8, 10], labels=[\"0\", \"4\", \"8\", \"12\", \"16\", \"20\"])\n",
    "\n",
    "plt.xlabel('Forecasted weeks ahead')\n",
    "plt.ylabel('KL Divergence (nats)')\n",
    "\n",
    "plt.show()"
   ]
  },
  {
   "cell_type": "markdown",
   "metadata": {},
   "source": [
    "## Alternative Representation"
   ]
  },
  {
   "cell_type": "code",
   "execution_count": null,
   "metadata": {},
   "outputs": [],
   "source": [
    "start_days = []\n",
    "forecast_days = []\n",
    "kl = []\n",
    "\n",
    "for i,(k,v) in enumerate(evaluations):\n",
    "    start_days_c = k[8]\n",
    "    kl_vals = v['kl']\n",
    "    for j, p in enumerate(kl_vals):\n",
    "        start_days.append(start_days_c)\n",
    "        forecast_days.append(j)\n",
    "        kl.append(p.numpy().item())\n",
    "\n",
    "df1 = pd.DataFrame({\"start\":start_days,\"forecast\":forecast_days,\"kl\":kl}).pivot(index='start', columns='forecast')"
   ]
  },
  {
   "cell_type": "code",
   "execution_count": null,
   "metadata": {},
   "outputs": [],
   "source": [
    "# generate heatmap\n",
    "sns.heatmap(df2.T.to_numpy())"
   ]
  }
 ],
 "metadata": {
  "kernelspec": {
   "display_name": "Python 3",
   "language": "python",
   "name": "python3"
  },
  "language_info": {
   "codemirror_mode": {
    "name": "ipython",
    "version": 3
   },
   "file_extension": ".py",
   "mimetype": "text/x-python",
   "name": "python",
   "nbconvert_exporter": "python",
   "pygments_lexer": "ipython3",
   "version": "3.8.8"
  }
 },
 "nbformat": 4,
 "nbformat_minor": 4
}
