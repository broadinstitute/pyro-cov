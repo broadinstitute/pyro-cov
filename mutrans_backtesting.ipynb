{
 "cells": [
  {
   "cell_type": "markdown",
   "metadata": {},
   "source": [
    "# Backtesting\n",
    "\n",
    "This notebook generates plots for for backtesting. It requires that the script `run_backtesting.sh` has been run prior to execution."
   ]
  },
  {
   "cell_type": "code",
   "execution_count": null,
   "metadata": {},
   "outputs": [],
   "source": [
    "# imports\n",
    "import datetime\n",
    "import math\n",
    "import os\n",
    "import pickle\n",
    "import re\n",
    "import logging\n",
    "from collections import Counter, OrderedDict, defaultdict\n",
    "import numpy as np\n",
    "import matplotlib\n",
    "import matplotlib.pyplot as plt\n",
    "import pandas as pd\n",
    "import torch\n",
    "import pyro.distributions as dist\n",
    "from pyrocov import mutrans, pangolin, stats\n",
    "from pyrocov.stats import normal_log10bf\n",
    "from pyrocov.util import pretty_print, pearson_correlation\n",
    "import seaborn as sns"
   ]
  },
  {
   "cell_type": "code",
   "execution_count": null,
   "metadata": {},
   "outputs": [],
   "source": [
    "# configure logging\n",
    "logging.basicConfig(format=\"%(relativeCreated) 9d %(message)s\", level=logging.INFO)"
   ]
  },
  {
   "cell_type": "code",
   "execution_count": null,
   "metadata": {},
   "outputs": [],
   "source": [
    "# This line can be used to modify logging as required\n",
    "logging.getLogger().setLevel(logging.INFO)"
   ]
  },
  {
   "cell_type": "code",
   "execution_count": null,
   "metadata": {},
   "outputs": [],
   "source": [
    "# set matplotlib params\n",
    "matplotlib.rcParams[\"figure.dpi\"] = 200\n",
    "matplotlib.rcParams['figure.figsize'] = [8, 8]\n",
    "matplotlib.rcParams[\"axes.edgecolor\"] = \"gray\"\n",
    "matplotlib.rcParams[\"savefig.bbox\"] = \"tight\"\n",
    "matplotlib.rcParams['font.family'] = 'sans-serif'\n",
    "matplotlib.rcParams['font.sans-serif'] = ['Arial', 'Avenir', 'DejaVu Sans']"
   ]
  },
  {
   "cell_type": "markdown",
   "metadata": {},
   "source": [
    "## Load data"
   ]
  },
  {
   "cell_type": "code",
   "execution_count": null,
   "metadata": {},
   "outputs": [],
   "source": [
    "with open(\"results/gisaid.columns.pkl\", \"rb\") as f:\n",
    "    columns = pickle.load(f)\n",
    "print(\"Loaded data from {} samples\".format(len(columns[\"lineage\"])))"
   ]
  },
  {
   "cell_type": "code",
   "execution_count": null,
   "metadata": {},
   "outputs": [],
   "source": [
    "type(columns)"
   ]
  },
  {
   "cell_type": "code",
   "execution_count": null,
   "metadata": {},
   "outputs": [],
   "source": [
    "columns.keys()"
   ]
  },
  {
   "cell_type": "code",
   "execution_count": null,
   "metadata": {},
   "outputs": [],
   "source": [
    "for k in columns.keys():\n",
    "    print(k, columns[k][0:2])"
   ]
  },
  {
   "cell_type": "markdown",
   "metadata": {},
   "source": [
    "## Load trained models"
   ]
  },
  {
   "cell_type": "code",
   "execution_count": null,
   "metadata": {},
   "outputs": [],
   "source": [
    "fits = torch.load(\"results/mutrans.pt\", map_location=\"cpu\")"
   ]
  },
  {
   "cell_type": "code",
   "execution_count": null,
   "metadata": {},
   "outputs": [],
   "source": [
    "# print info on available models and what the keys are\n",
    "if False:\n",
    "    for key in fits:\n",
    "        print(key)\n",
    "    first_key = list(fits.keys())[0]\n",
    "    fits[first_key].keys()"
   ]
  },
  {
   "cell_type": "code",
   "execution_count": null,
   "metadata": {},
   "outputs": [],
   "source": [
    "# Print the shape of the weekly strains in each fit\n",
    "if False:\n",
    "    for fit in fits.values():\n",
    "        print(fit[\"weekly_strains_shape\"])"
   ]
  },
  {
   "cell_type": "code",
   "execution_count": null,
   "metadata": {},
   "outputs": [],
   "source": [
    "# This is really just the second fit\n",
    "#selected_fit = list(fits.values())[1]\n",
    "#pretty_print(selected_fit, max_items=40)"
   ]
  },
  {
   "cell_type": "markdown",
   "metadata": {},
   "source": [
    "Scale `coef` by 1/100 in all results."
   ]
  },
  {
   "cell_type": "code",
   "execution_count": null,
   "metadata": {},
   "outputs": [],
   "source": [
    "ALREADY_SCALED = set()\n",
    "\n",
    "def scale_tensors(x, names={\"coef\"}, scale=0.01, prefix=\"\", verbose=True):\n",
    "    if id(x) in ALREADY_SCALED:\n",
    "        return\n",
    "    if isinstance(x, dict):\n",
    "        for k, v in list(x.items()):\n",
    "            if k in names:\n",
    "                if verbose:\n",
    "                    print(f\"{prefix}.{k}\")\n",
    "                x[k] = v * scale\n",
    "            elif k == \"diagnostics\":\n",
    "                continue\n",
    "            else:\n",
    "                scale_tensors(v, names, scale, f\"{prefix}.{k}\", verbose=verbose)\n",
    "    ALREADY_SCALED.add(id(x))\n",
    "                \n",
    "scale_tensors(fits, verbose=False)"
   ]
  },
  {
   "cell_type": "markdown",
   "metadata": {},
   "source": [
    "# Forecasting"
   ]
  },
  {
   "cell_type": "code",
   "execution_count": null,
   "metadata": {},
   "outputs": [],
   "source": [
    "import importlib\n",
    "from pyrocov import mutrans_helpers"
   ]
  },
  {
   "cell_type": "code",
   "execution_count": null,
   "metadata": {},
   "outputs": [],
   "source": [
    "# customize logging\n",
    "if False:\n",
    "    logging.getLogger().setLevel(logging.ERROR)"
   ]
  },
  {
   "cell_type": "markdown",
   "metadata": {},
   "source": [
    "## Day 542: Last available"
   ]
  },
  {
   "cell_type": "code",
   "execution_count": null,
   "metadata": {},
   "outputs": [],
   "source": [
    "if False:\n",
    "    logging.getLogger().setLevel(logging.INFO)"
   ]
  },
  {
   "cell_type": "code",
   "execution_count": null,
   "metadata": {},
   "outputs": [],
   "source": [
    "importlib.reload(mutrans_helpers)\n",
    "\n",
    "i = len(fits) - 1\n",
    "key, latest_fit = mutrans_helpers.get_fit_by_index(fits, i)\n",
    "print(f\"Max days of model: {key[8]}\")\n",
    "\n",
    "strains_from_manuscript_figure = ['B.1.1.7','B.1.617.2','B.1.177','B.1.429','P.1',\n",
    "                                 'B.1.1','B.1','B.1.427','B.1.2','B.1.177.4']\n",
    "\n",
    "matplotlib.rcParams['figure.figsize'] = [10, 4]\n",
    "mutrans_helpers.plot_fit_forecasts(\n",
    "    fit=latest_fit, \n",
    "    strains_to_show=strains_from_manuscript_figure,\n",
    "    queries=['England'],\n",
    "    filename=\"paper/forecasts/forecast_day_542.png\"\n",
    ")"
   ]
  },
  {
   "cell_type": "markdown",
   "metadata": {},
   "source": [
    "## Day 346:  B.1.1.7 in UK"
   ]
  },
  {
   "cell_type": "code",
   "execution_count": null,
   "metadata": {},
   "outputs": [],
   "source": [
    "importlib.reload(mutrans_helpers)\n",
    "\n",
    "i = 14\n",
    "key, fit_d346 = mutrans_helpers.get_fit_by_index(fits, i)\n",
    "print(f\"Max days of model: {key[8]}\")\n",
    "\n",
    "strains_from_manuscript_figure = ['B.1.1.7','B.1.617.2','B.1.177','B.1.429','P.1',\n",
    "                                 'B.1.1','B.1','B.1.427','B.1.2','B.1.177.4']\n",
    "\n",
    "matplotlib.rcParams['figure.figsize'] = [10, 4]\n",
    "mutrans_helpers.plot_fit_forecasts(\n",
    "    fit=fit_d346, \n",
    "    strains_to_show=strains_from_manuscript_figure,queries=['England'],\n",
    "    future_fit=latest_fit,\n",
    "    num_strains=2000,\n",
    "    filename=\"paper/forecasts/forecast_day_346.png\"\n",
    ")"
   ]
  },
  {
   "cell_type": "code",
   "execution_count": null,
   "metadata": {},
   "outputs": [],
   "source": [
    "q = {\"England\": ['B.1','B.1.1.7','B.1.177','B.1.177.4']}\n",
    "\n",
    "mutrans_helpers.evaluate_fit_forecast(fit_d346, latest_fit, \n",
    "                                      queries = q)"
   ]
  },
  {
   "cell_type": "markdown",
   "metadata": {},
   "source": [
    "# Day 234: B.1.617.2 in UK"
   ]
  },
  {
   "cell_type": "code",
   "execution_count": null,
   "metadata": {},
   "outputs": [],
   "source": [
    "importlib.reload(mutrans_helpers)"
   ]
  },
  {
   "cell_type": "code",
   "execution_count": null,
   "metadata": {},
   "outputs": [],
   "source": [
    "i = 26\n",
    "key, fit_d514 = mutrans_helpers.get_fit_by_index(fits, i)\n",
    "print(f\"Max days of model: {key[8]}\")\n",
    "\n",
    "strains_from_manuscript_figure = ['B.1.1.7','B.1.617.2','B.1.177','B.1.429','P.1',\n",
    "                                 'B.1.1','B.1','B.1.427','B.1.2','B.1.177.4']\n",
    "\n",
    "matplotlib.rcParams['figure.figsize'] = [10, 4]\n",
    "mutrans_helpers.plot_fit_forecasts(\n",
    "    fit=fit_d514, \n",
    "    strains_to_show=strains_from_manuscript_figure,\n",
    "    queries=['England'],\n",
    "    future_fit=latest_fit,\n",
    "    filename='paper/forecasts/forecast_day_514.png',\n",
    "    forecast_periods_plot=2,\n",
    ")"
   ]
  },
  {
   "cell_type": "code",
   "execution_count": null,
   "metadata": {},
   "outputs": [],
   "source": [
    "q = {\"England\": ['B.1','B.1.1','B.1.1.7','B.1.177','B.1.177.4']}\n",
    "\n",
    "mutrans_helpers.evaluate_fit_forecast(fit_d514, latest_fit, \n",
    "                                      queries = q)"
   ]
  },
  {
   "cell_type": "markdown",
   "metadata": {},
   "source": [
    "## Evaluate future forecast MAE in different windows"
   ]
  },
  {
   "cell_type": "code",
   "execution_count": null,
   "metadata": {},
   "outputs": [],
   "source": [
    "def get_fits_forecast_mae(n_fits=7, queries=None, key_eval = \"England MAE\",\n",
    "                         steps_for_mae_eval = 10, n_intervals=3):\n",
    "    \"\"\"Get forecast scores for different fits\n",
    "    \n",
    "    :param n_fits: indexes of fits in global fits to evaluate\n",
    "    :param queries: a queries hashmap\n",
    "    :param key_eval: which result of evaluate_fit_forecast to keep\n",
    "    :param steps_for_mae_eval: number of steps to skips=\n",
    "    \"\"\"\n",
    "\n",
    "    # Results\n",
    "    mae = []\n",
    "    step = []\n",
    "    fit_days = []\n",
    "    \n",
    "    # queries has to be set\n",
    "    assert queries\n",
    "    \n",
    "    # For the different fits\n",
    "    for fit_index in range(n_fits):\n",
    "        fit_key, fit_plot = mutrans_helpers.get_fit_by_index(fits, fit_index)\n",
    "\n",
    "        # For the different steps\n",
    "        for steps_index in range(steps_for_mae_eval):\n",
    "            fit_eval = mutrans_helpers.evaluate_fit_forecast(\n",
    "                fit_plot,\n",
    "                latest_fit,\n",
    "                queries=q,\n",
    "                n_intervals=n_intervals,\n",
    "                n_intervals_skip=steps_index)\n",
    "            \n",
    "            # Value that we want to keep\n",
    "            val_save = fit_eval[key_eval].item()\n",
    "        \n",
    "            mae.append(val_save)\n",
    "            step.append(steps_index)\n",
    "            fit_days.append(fit_key[8])\n",
    "            \n",
    "    return pd.DataFrame({'fit_days': fit_days, 'step': step, 'mae': mae})"
   ]
  },
  {
   "cell_type": "code",
   "execution_count": null,
   "metadata": {},
   "outputs": [],
   "source": [
    "q = {\"England\": ['B.1','B.1.1','B.1.1.7','B.1.177','B.1.177.4']}\n",
    "\n",
    "england_forecasts_eval = get_fits_forecast_mae(n_fits=10, queries=q)"
   ]
  },
  {
   "cell_type": "code",
   "execution_count": null,
   "metadata": {},
   "outputs": [],
   "source": [
    "sns_plot = sns.lineplot(x=\"step\", y=\"mae\",\n",
    "             hue=\"fit_days\", \n",
    "             data=england_forecasts_eval)\n",
    "\n",
    "fig = sns_plot.get_figure()\n",
    "\n",
    "fig.savefig('paper/forecasts/England_MAE_forecast.png')"
   ]
  }
 ],
 "metadata": {
  "kernelspec": {
   "display_name": "Python 3",
   "language": "python",
   "name": "python3"
  },
  "language_info": {
   "codemirror_mode": {
    "name": "ipython",
    "version": 3
   },
   "file_extension": ".py",
   "mimetype": "text/x-python",
   "name": "python",
   "nbconvert_exporter": "python",
   "pygments_lexer": "ipython3",
   "version": "3.8.8"
  }
 },
 "nbformat": 4,
 "nbformat_minor": 4
}
