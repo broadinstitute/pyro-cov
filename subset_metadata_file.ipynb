{
 "cells": [
  {
   "cell_type": "code",
   "execution_count": 1,
   "id": "26bc8401-40c4-4ef8-9456-dc051e70ad5f",
   "metadata": {},
   "outputs": [
    {
     "ename": "ModuleNotFoundError",
     "evalue": "No module named 'pyro'",
     "output_type": "error",
     "traceback": [
      "\u001b[1;31m---------------------------------------------------------------------------\u001b[0m",
      "\u001b[1;31mModuleNotFoundError\u001b[0m                       Traceback (most recent call last)",
      "Input \u001b[1;32mIn [1]\u001b[0m, in \u001b[0;36m<cell line: 3>\u001b[1;34m()\u001b[0m\n\u001b[0;32m      1\u001b[0m \u001b[38;5;28;01mimport\u001b[39;00m \u001b[38;5;21;01mpandas\u001b[39;00m \u001b[38;5;28;01mas\u001b[39;00m \u001b[38;5;21;01mpd\u001b[39;00m\n\u001b[0;32m      2\u001b[0m \u001b[38;5;28;01mfrom\u001b[39;00m \u001b[38;5;21;01mdatetime\u001b[39;00m \u001b[38;5;28;01mimport\u001b[39;00m datetime, date, timedelta\n\u001b[1;32m----> 3\u001b[0m \u001b[38;5;28;01mfrom\u001b[39;00m \u001b[38;5;21;01mpyrocov\u001b[39;00m\u001b[38;5;21;01m.\u001b[39;00m\u001b[38;5;21;01mutil\u001b[39;00m \u001b[38;5;28;01mimport\u001b[39;00m gzip_open_tqdm\n",
      "File \u001b[1;32m~\\Documents\\pyro-cov\\pyrocov\\util.py:12\u001b[0m, in \u001b[0;36m<module>\u001b[1;34m\u001b[0m\n\u001b[0;32m      9\u001b[0m \u001b[38;5;28;01mimport\u001b[39;00m \u001b[38;5;21;01mweakref\u001b[39;00m\n\u001b[0;32m     10\u001b[0m \u001b[38;5;28;01mfrom\u001b[39;00m \u001b[38;5;21;01mtyping\u001b[39;00m \u001b[38;5;28;01mimport\u001b[39;00m Dict\n\u001b[1;32m---> 12\u001b[0m \u001b[38;5;28;01mimport\u001b[39;00m \u001b[38;5;21;01mpyro\u001b[39;00m\n\u001b[0;32m     13\u001b[0m \u001b[38;5;28;01mimport\u001b[39;00m \u001b[38;5;21;01mtorch\u001b[39;00m\n\u001b[0;32m     14\u001b[0m \u001b[38;5;28;01mimport\u001b[39;00m \u001b[38;5;21;01mtqdm\u001b[39;00m\n",
      "\u001b[1;31mModuleNotFoundError\u001b[0m: No module named 'pyro'"
     ]
    }
   ],
   "source": [
    "import os\n",
    "import pandas as pd\n",
    "from datetime import datetime, date, timedelta\n",
    "from pyrocov.util import gzip_open_tqdm"
   ]
  },
  {
   "cell_type": "code",
   "execution_count": 77,
   "id": "3e5dfb2a-3259-4b65-ad01-8f5a8528f165",
   "metadata": {},
   "outputs": [
    {
     "name": "stdout",
     "output_type": "stream",
     "text": [
      "metadata_subsets/alpha_wk0/results.2020-12-02/gisaid/metadata_2020-12-02.csv.gz\n"
     ]
    }
   ],
   "source": [
    "date = '2020-12-02'\n",
    "voc = 'alpha'\n",
    "wk = 0\n",
    "print(\"metadata_subsets/\"+voc+\"_wk\"+str(wk)+\"/results.\"+date+\"/gisaid/metadata_\"+date+\".csv.gz\")"
   ]
  },
  {
   "cell_type": "code",
   "execution_count": 11,
   "id": "33dc3e67-18d7-4832-8a9a-584e783de2bb",
   "metadata": {},
   "outputs": [
    {
     "ename": "NameError",
     "evalue": "name 'gzip' is not defined",
     "output_type": "error",
     "traceback": [
      "\u001b[1;31m---------------------------------------------------------------------------\u001b[0m",
      "\u001b[1;31mNameError\u001b[0m                                 Traceback (most recent call last)",
      "Input \u001b[1;32mIn [11]\u001b[0m, in \u001b[0;36m<cell line: 3>\u001b[1;34m()\u001b[0m\n\u001b[0;32m      1\u001b[0m \u001b[38;5;66;03m## Read in GISAID metadata file\u001b[39;00m\n\u001b[0;32m      2\u001b[0m filename \u001b[38;5;241m=\u001b[39m \u001b[38;5;124m\"\u001b[39m\u001b[38;5;124mresults.2022-08-10/gisaid/metadata_2022_08_08.tsv.gz\u001b[39m\u001b[38;5;124m\"\u001b[39m\n\u001b[1;32m----> 3\u001b[0m \u001b[38;5;28;01mwith\u001b[39;00m \u001b[43mgzip\u001b[49m\u001b[38;5;241m.\u001b[39mopen(filename) \u001b[38;5;28;01mas\u001b[39;00m g:\n\u001b[0;32m      4\u001b[0m     \u001b[38;5;28mprint\u001b[39m(\u001b[38;5;124m\"\u001b[39m\u001b[38;5;124mUnzipping and reading CSV...\u001b[39m\u001b[38;5;124m\"\u001b[39m)\n\u001b[0;32m      5\u001b[0m     gisaid \u001b[38;5;241m=\u001b[39m pd\u001b[38;5;241m.\u001b[39mread_csv(g, delimiter \u001b[38;5;241m=\u001b[39m \u001b[38;5;124m\"\u001b[39m\u001b[38;5;130;01m\\t\u001b[39;00m\u001b[38;5;124m\"\u001b[39m)\n",
      "\u001b[1;31mNameError\u001b[0m: name 'gzip' is not defined"
     ]
    }
   ],
   "source": [
    "## Read in GISAID metadata file\n",
    "filename = \"results.2022-08-10/gisaid/metadata_2022_08_08.tsv.gz\"\n",
    "with gzip.open(filename) as g:\n",
    "    print(\"Unzipping and reading CSV...\")\n",
    "    gisaid = pd.read_csv(g, delimiter = \"\\t\")\n",
    "    print(\"Processing...\")\n",
    "    gisaid = gisaid.fillna(\"\")\n",
    "    gisaid = gisaid[~gisaid[\"AA Substitutions\"].str.contains(\"stop|B|X|Z\")] # remove sequences with stop codons or ambigous amino acids\n",
    "\n",
    "    voc_date_first_seen = {\"alpha\": \"2020-12-02\",\n",
    "                           \"beta\": \"2021-03-26\",\n",
    "                           \"delta\": \"2021-03-31\",\n",
    "                           \"BA.1\": \"2021-11-22\",\n",
    "                           \"BA.2\": \"2021-11-27\",\n",
    "                           \"BA.2.12.1\": \"2022-02-10\",\n",
    "                           \"BA.4\": \"2022-04-12\"}\n",
    "\n",
    "\n",
    "    time_index = {0,1,2,4}\n",
    "\n",
    "    print(\"Writing...\")\n",
    "    for voc in voc_date_first_seen:\n",
    "        for wk in time_index:\n",
    "            print(voc)\n",
    "            date = str(datetime.strptime(voc_date_first_seen[voc], '%Y-%m-%d') + timedelta(weeks= wk))[:10]\n",
    "            print(date)\n",
    "            gisaid_i = gisaid[gisaid[\"Submission date\"] <= date]\n",
    "            filepath = \"metadata_subsets/\"+voc+\"_wk\"+str(wk)+\"/results.\"+date+\"/gisaid\"\n",
    "            os.makedirs(filepath)\n",
    "            gisaid_i.to_csv(filepath+\"/metadata_\"+date+\".csv.gz\", \n",
    "                            index = False, \n",
    "                            compression=\"gzip\")"
   ]
  }
 ],
 "metadata": {
  "kernelspec": {
   "display_name": "Python 3 (ipykernel)",
   "language": "python",
   "name": "python3"
  },
  "language_info": {
   "codemirror_mode": {
    "name": "ipython",
    "version": 3
   },
   "file_extension": ".py",
   "mimetype": "text/x-python",
   "name": "python",
   "nbconvert_exporter": "python",
   "pygments_lexer": "ipython3",
   "version": "3.9.13"
  }
 },
 "nbformat": 4,
 "nbformat_minor": 5
}
